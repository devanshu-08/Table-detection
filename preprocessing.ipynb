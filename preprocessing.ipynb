{
 "cells": [
  {
   "cell_type": "code",
   "execution_count": 43,
   "metadata": {},
   "outputs": [],
   "source": [
    "import pandas as pd\n",
    "import numpy as np\n",
    "from glob import glob\n",
    "from sklearn.model_selection import train_test_split\n",
    "from PIL import Image\n",
    "import cv2\n",
    "import glob\n",
    "import os\n",
    "import pickle\n",
    "import xml.etree.ElementTree as ET\n",
    "from os import listdir, getcwd\n",
    "from os.path import join\n",
    "import struct\n",
    "from tqdm import tqdm"
   ]
  },
  {
   "cell_type": "code",
   "execution_count": 44,
   "metadata": {},
   "outputs": [],
   "source": [
    "def get_table_bbox(xml, width, height):\n",
    "    \n",
    "    tree = ET.parse(xml)\n",
    "    root = tree.getroot()\n",
    "    \n",
    "    left, bottom, right, top = list(map(lambda x: struct.unpack('!d', bytes.fromhex(x))[0], root.get(\"CropBox\").split()))\n",
    "    # print(left, bottom, right, top)\n",
    "    pa_width = np.abs(left - right)\n",
    "    pa_height = np.abs(top - bottom)\n",
    "    bboxes = []\n",
    "    for each_table_comp in tree.findall(\".//Composite[@Label='TableBody']\"):\n",
    "        t_left, t_bottom, t_right, t_top = list(map(lambda x: struct.unpack('!d', bytes.fromhex(x))[0], each_table_comp.get(\"BBox\").split()))\n",
    "        t_left = int(width/pa_width * np.abs(t_left - left))\n",
    "        t_right = int(width/pa_width * np.abs(t_right - left))\n",
    "        t_bottom = int(height/pa_height * np.abs(t_bottom - bottom)) \n",
    "        t_top = int(height/pa_height * np.abs(t_top - bottom))\n",
    "        bboxes.append([t_left, t_top, t_right, t_bottom])\n",
    "    return bboxes"
   ]
  },
  {
   "cell_type": "code",
   "execution_count": 45,
   "metadata": {},
   "outputs": [],
   "source": [
    "def create_mask(new_h, new_w, bboxes = None):\n",
    " \n",
    "    mask = np.zeros((new_h, new_w), dtype=np.uint8)\n",
    "    # print(bboxes)\n",
    "    if bboxes is None or len(bboxes)==0:\n",
    "         return Image.fromarray(mask.astype(np.uint8),'L')\n",
    "    \n",
    "    for box in bboxes:\n",
    "        mask[box[3]:box[1], box[0]:box[2]] = 255\n",
    "    return Image.fromarray(mask.astype(np.uint8),'L')"
   ]
  },
  {
   "cell_type": "code",
   "execution_count": 47,
   "metadata": {},
   "outputs": [
    {
     "name": "stderr",
     "output_type": "stream",
     "text": [
      "100%|██████████| 509/509 [00:41<00:00, 12.36it/s]\n"
     ]
    }
   ],
   "source": [
    "images_dir = os.path.join('marmot_dataset_v1.0', 'data', 'English', 'Positive', 'Raw')\n",
    "img_file_list = [i for i in os.listdir(images_dir) if i.endswith('bmp')]\n",
    "new_h = 512\n",
    "new_w = 512\n",
    "for each_image in tqdm(img_file_list):\n",
    "    img_path = os.path.join(images_dir, each_image)\n",
    "    image = Image.open(img_path)\n",
    "    table_annot = os.path.join('marmot_dataset_v1.0', 'data', 'English', 'Positive', 'Labeled', each_image.replace('bmp', 'xml'))\n",
    "    image = image.resize((new_h, new_w))\n",
    "    if image.mode != 'RGB':\n",
    "        image = image.convert(\"RGB\")\n",
    "    \n",
    "    table_bboxes = get_table_bbox(table_annot, 512, 512)\n",
    "    table_mask = create_mask(new_h, new_w, table_bboxes)\n",
    "    \n",
    "    save_image_path = os.path.join('Dataset', 'images', each_image.replace('bmp', 'jpeg'))\n",
    "    save_table_mask_path = os.path.join('Dataset', 'table mask', each_image.replace('bmp', 'jpeg'))\n",
    "    \n",
    "    image.save(save_image_path)\n",
    "    table_mask.save(save_table_mask_path)"
   ]
  },
  {
   "cell_type": "code",
   "execution_count": 50,
   "metadata": {},
   "outputs": [
    {
     "name": "stderr",
     "output_type": "stream",
     "text": [
      "100%|██████████| 484/484 [00:24<00:00, 19.53it/s]\n"
     ]
    }
   ],
   "source": [
    "images_dir = os.path.join('marmot_dataset_v1.0', 'data', 'English', 'Negative', 'Raw')\n",
    "img_file_list = [i for i in os.listdir(images_dir) if i.endswith('bmp')]\n",
    "\n",
    "for each_image in tqdm(img_file_list):\n",
    "    img_path = os.path.join(images_dir, each_image)\n",
    "    image = Image.open(img_path)\n",
    "    image = image.resize((new_h, new_w))\n",
    "    if image.mode != 'RGB':\n",
    "        image = image.convert(\"RGB\")\n",
    "    table_mask = create_mask(new_h, new_w)\n",
    "    save_image_path = os.path.join('Dataset', 'images', each_image.replace('bmp', 'jpeg'))\n",
    "    save_table_mask_path = os.path.join('Dataset', 'table mask', each_image.replace('bmp', 'jpeg'))\n",
    "    \n",
    "    image.save(save_image_path)\n",
    "    table_mask.save(save_table_mask_path)\n"
   ]
  }
 ],
 "metadata": {
  "kernelspec": {
   "display_name": "base",
   "language": "python",
   "name": "python3"
  },
  "language_info": {
   "codemirror_mode": {
    "name": "ipython",
    "version": 3
   },
   "file_extension": ".py",
   "mimetype": "text/x-python",
   "name": "python",
   "nbconvert_exporter": "python",
   "pygments_lexer": "ipython3",
   "version": "3.9.7 (default, Sep 16 2021, 16:59:28) [MSC v.1916 64 bit (AMD64)]"
  },
  "orig_nbformat": 4,
  "vscode": {
   "interpreter": {
    "hash": "4c6fde52f095ccd11382942f7f1245050f4a511f45dbea365d497746aa0c1d14"
   }
  }
 },
 "nbformat": 4,
 "nbformat_minor": 2
}
