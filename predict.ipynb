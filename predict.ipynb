{
  "nbformat": 4,
  "nbformat_minor": 0,
  "metadata": {
    "colab": {
      "provenance": []
    },
    "kernelspec": {
      "name": "python3",
      "display_name": "Python 3"
    },
    "language_info": {
      "name": "python"
    }
  },
  "cells": [
    {
      "cell_type": "code",
      "execution_count": 26,
      "metadata": {
        "id": "aylYgLm9hhmE"
      },
      "outputs": [],
      "source": [
        "import pandas as pd\n",
        "import numpy as np\n",
        "from sklearn.model_selection import train_test_split\n",
        "import cv2\n",
        "from google.colab.patches import cv2_imshow\n",
        "from PIL import Image\n",
        "import tensorflow as tf\n",
        "from tensorflow.keras.models import load_model\n",
        "import matplotlib.pyplot as plt"
      ]
    },
    {
      "cell_type": "code",
      "source": [
        "train = tf.data.Dataset.list_files('/content/drive/MyDrive/Medbikri/test/*.jpeg')"
      ],
      "metadata": {
        "id": "pg2wdRfpZPjd"
      },
      "execution_count": 27,
      "outputs": []
    },
    {
      "cell_type": "code",
      "source": [
        "h, w = 512, 512\n",
        "def normalize(input_image):\n",
        "  input_image = tf.cast(input_image, tf.float32) / 255.0\n",
        "  return input_image\n",
        "def decode_img(img):\n",
        "  img = tf.image.decode_jpeg(img)\n",
        "  img = tf.image.resize(img, [h, w])\n",
        "  return img\n",
        "def process_path(file_path):\n",
        "  img = normalize(decode_img(tf.io.read_file(file_path)))\n",
        "  return img"
      ],
      "metadata": {
        "id": "uY7T2OhtZULJ"
      },
      "execution_count": 28,
      "outputs": []
    },
    {
      "cell_type": "code",
      "source": [
        "train = train.map(process_path)"
      ],
      "metadata": {
        "id": "OT5rLXnLZUNx"
      },
      "execution_count": 29,
      "outputs": []
    },
    {
      "cell_type": "code",
      "source": [
        "def predict(image, table_mask):\n",
        "  table_mask = np.array(table_mask)\n",
        "  image = np.array(image)\n",
        "  contours, table_heirarchy = cv2.findContours(table_mask, cv2.RETR_EXTERNAL, cv2.CHAIN_APPROX_NONE)\n",
        "  tables=[]\n",
        "  for c in contours : \n",
        "    if(cv2.contourArea(c) > 2000) : \n",
        "      tables.append(c)\n",
        "  if(len(tables)==0):\n",
        "    print(\"No table detected\")\n",
        "    return\n",
        "  table_boundRect = [None]*len(tables)\n",
        "\n",
        "  for i, c in enumerate(tables):\n",
        "    polygon = cv2.approxPolyDP(c, 3, True)\n",
        "    table_boundRect[i] = cv2.boundingRect(polygon)\n",
        "  table_boundRect.sort()\n",
        "  color = (0,0,255)\n",
        "  thickness = 2\n",
        "\n",
        "  for x,y,w,h in table_boundRect:\n",
        "    cv2.rectangle(image, (x,y),(x+w,y+h), color, thickness)\n",
        "  display(image)"
      ],
      "metadata": {
        "id": "9evJ22TdZUU2"
      },
      "execution_count": 32,
      "outputs": []
    },
    {
      "cell_type": "code",
      "source": [
        "def display(img):\n",
        "  plt.figure(figsize=(15, 15))\n",
        "  plt.title(\"image\")\n",
        "  plt.imshow(tf.keras.preprocessing.image.array_to_img(img))\n",
        "  plt.axis('off')\n",
        "  plt.show()"
      ],
      "metadata": {
        "id": "UgqEudpeZUXX"
      },
      "execution_count": 33,
      "outputs": []
    },
    {
      "cell_type": "code",
      "source": [
        "def create_mask(pred_mask1):\n",
        "  pred_mask1 = tf.argmax(pred_mask1, axis=-1)\n",
        "  pred_mask1 = pred_mask1[..., tf.newaxis]\n",
        "  return pred_mask1[0]"
      ],
      "metadata": {
        "id": "wfguP5JPX0Zf"
      },
      "execution_count": 34,
      "outputs": []
    },
    {
      "cell_type": "code",
      "source": [
        "def show_predictions(dataset=None):\n",
        "  model = load_model('/content/drive/MyDrive/Medbikri/mdl1.h5')\n",
        "  if dataset:\n",
        "    for image in dataset:\n",
        "      image = np.reshape(image, (1, 512, 512 , 3))\n",
        "      pred_mask1= model.predict(image, verbose=1)\n",
        "      table_mask= create_mask(pred_mask1)\n",
        "      predict(tf.keras.preprocessing.image.array_to_img(image[0]), tf.keras.preprocessing.image.array_to_img(table_mask))"
      ],
      "metadata": {
        "id": "mS8A5l1OX0cV"
      },
      "execution_count": 35,
      "outputs": []
    },
    {
      "cell_type": "code",
      "source": [
        "show_predictions(train)"
      ],
      "metadata": {
        "id": "IAWe4KFmX0hu"
      },
      "execution_count": null,
      "outputs": []
    }
  ]
}